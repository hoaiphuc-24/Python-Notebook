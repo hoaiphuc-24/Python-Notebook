{
 "cells": [
  {
   "cell_type": "code",
   "execution_count": 1,
   "metadata": {},
   "outputs": [],
   "source": [
    "import pandas as pd\n",
    "import numpy as np\n",
    "import matplotlib.pyplot as plt\n",
    "import seaborn as sns\n",
    "  \n"
   ]
  },
  {
   "cell_type": "code",
   "execution_count": 2,
   "metadata": {},
   "outputs": [
    {
     "name": "stdout",
     "output_type": "stream",
     "text": [
      "[['France' None '72000']\n",
      " ['Spain' '78' '90000']\n",
      " ['Germany' '87' None]\n",
      " ['Spain' '67' '67000']\n",
      " ['France' None '45000']\n",
      " ['Germany' '98' '80000']\n",
      " ['Spain' None '75000']\n",
      " ['France' None '69000']\n",
      " ['Germany' '75' '81000']\n",
      " ['Spain' None '89000']]\n"
     ]
    },
    {
     "data": {
      "text/plain": [
       "array(['No', 'Yes', 'No', 'Yes', 'Yes', 'No', 'Yes', 'No', 'Yes', 'No'],\n",
       "      dtype='<U3')"
      ]
     },
     "execution_count": 2,
     "metadata": {},
     "output_type": "execute_result"
    }
   ],
   "source": [
    "x=np.array([[\"France\",None,\"72000\"],[\"Spain\", \"78\",\"90000\"],[\"Germany\",\"87\",None],[\"Spain\",\"67\",\"67000\"],[\"France\",None,\"45000\"],[\"Germany\",\"98\",\"80000\"],[\"Spain\",None,\"75000\"],[\"France\",None,\"69000\"],[\"Germany\",\"75\",\"81000\"],[\"Spain\",None,\"89000\"]])\n",
    "print(x)\n",
    "y=np.array([\"No\", \"Yes\", \"No\", \"Yes\", \"Yes\", \"No\",\"Yes\",\"No\", \"Yes\", \"No\"])\n",
    "y"
   ]
  },
  {
   "cell_type": "markdown",
   "metadata": {},
   "source": [
    "#from sklearn.impute import SimpleImputer (thay thế những ô dl trống)\n",
    "\n",
    "from sklearn.preproccessing import LabelEncoder (biến đỗi những dl danh mục thành dang số học)\n",
    "\n",
    "from sklearn.model_selection import train_test_split (tách dataset thành training set and test set)\n",
    "\n",
    "from sklearn.preprpccessing import StandardScaler (chuyển dl thành 1 thang )"
   ]
  },
  {
   "cell_type": "code",
   "execution_count": 3,
   "metadata": {},
   "outputs": [
    {
     "data": {
      "text/plain": [
       "array([['France', 81.0, 72000.0],\n",
       "       ['Spain', 78.0, 90000.0],\n",
       "       ['Germany', 87.0, 74222.22222222222],\n",
       "       ['Spain', 67.0, 67000.0],\n",
       "       ['France', 81.0, 45000.0],\n",
       "       ['Germany', 98.0, 80000.0],\n",
       "       ['Spain', 81.0, 75000.0],\n",
       "       ['France', 81.0, 69000.0],\n",
       "       ['Germany', 75.0, 81000.0],\n",
       "       ['Spain', 81.0, 89000.0]], dtype=object)"
      ]
     },
     "execution_count": 3,
     "metadata": {},
     "output_type": "execute_result"
    }
   ],
   "source": [
    "from sklearn.impute import SimpleImputer\n",
    "\n",
    "imputer= SimpleImputer(missing_values=np.nan, strategy=\"mean\")\n",
    "\n",
    "imputer.fit(x[:,1:3])\n",
    "\n",
    "x[:,1:3]= imputer.transform(x[:,1:3])\n",
    "\n",
    "x"
   ]
  },
  {
   "cell_type": "code",
   "execution_count": 4,
   "metadata": {},
   "outputs": [
    {
     "data": {
      "text/plain": [
       "array([[1.0, 0.0, 0.0, 81.0, 72000.0],\n",
       "       [0.0, 0.0, 1.0, 78.0, 90000.0],\n",
       "       [0.0, 1.0, 0.0, 87.0, 74222.22222222222],\n",
       "       [0.0, 0.0, 1.0, 67.0, 67000.0],\n",
       "       [1.0, 0.0, 0.0, 81.0, 45000.0],\n",
       "       [0.0, 1.0, 0.0, 98.0, 80000.0],\n",
       "       [0.0, 0.0, 1.0, 81.0, 75000.0],\n",
       "       [1.0, 0.0, 0.0, 81.0, 69000.0],\n",
       "       [0.0, 1.0, 0.0, 75.0, 81000.0],\n",
       "       [0.0, 0.0, 1.0, 81.0, 89000.0]], dtype=object)"
      ]
     },
     "execution_count": 4,
     "metadata": {},
     "output_type": "execute_result"
    }
   ],
   "source": [
    "from sklearn.compose import ColumnTransformer\n",
    "from sklearn.preprocessing import OneHotEncoder\n",
    "\n",
    "ct= ColumnTransformer(transformers=[(\"encoder\",OneHotEncoder(),[0])], remainder=\"passthrough\")\n",
    "\n",
    "x= ct.fit_transform(x)\n",
    "\n",
    "x\n"
   ]
  },
  {
   "cell_type": "code",
   "execution_count": 5,
   "metadata": {},
   "outputs": [
    {
     "data": {
      "text/plain": [
       "array([0, 1, 0, 1, 1, 0, 1, 0, 1, 0])"
      ]
     },
     "execution_count": 5,
     "metadata": {},
     "output_type": "execute_result"
    }
   ],
   "source": [
    "from sklearn.preprocessing import LabelEncoder\n",
    "\n",
    "le=LabelEncoder()\n",
    "y=le.fit_transform(y)\n",
    "y"
   ]
  },
  {
   "cell_type": "code",
   "execution_count": 6,
   "metadata": {},
   "outputs": [
    {
     "data": {
      "text/plain": [
       "array([[0.0, 1.0, 0.0, 75.0, 81000.0],\n",
       "       [0.0, 0.0, 1.0, 78.0, 90000.0],\n",
       "       [0.0, 1.0, 0.0, 87.0, 74222.22222222222],\n",
       "       [0.0, 0.0, 1.0, 81.0, 89000.0],\n",
       "       [1.0, 0.0, 0.0, 81.0, 72000.0],\n",
       "       [0.0, 1.0, 0.0, 98.0, 80000.0],\n",
       "       [1.0, 0.0, 0.0, 81.0, 69000.0],\n",
       "       [0.0, 0.0, 1.0, 81.0, 75000.0]], dtype=object)"
      ]
     },
     "execution_count": 6,
     "metadata": {},
     "output_type": "execute_result"
    }
   ],
   "source": [
    "from sklearn.model_selection import train_test_split\n",
    "np.random.seed(40)\n",
    "x_train, x_test, y_train, y_test=train_test_split(x,y , test_size=0.2)\n",
    "\n",
    "x_train"
   ]
  },
  {
   "cell_type": "code",
   "execution_count": 10,
   "metadata": {},
   "outputs": [
    {
     "data": {
      "text/plain": [
       "array([[0.0, 1.0, 0.0, -1.1792955782082268, 0.3091223338675927],\n",
       "       [0.0, 0.0, 1.0, -0.7227940640631069, 1.5610677860313449],\n",
       "       [0.0, 1.0, 0.0, 0.6467104783722535, -0.6337007844285668],\n",
       "       [0.0, 0.0, 1.0, -0.26629254991798673, 1.4219627357909281],\n",
       "       [1.0, 0.0, 0.0, -0.26629254991798673, -0.9428231182961595],\n",
       "       [0.0, 1.0, 0.0, 2.3205493635710273, 0.17001728362717577],\n",
       "       [1.0, 0.0, 0.0, -0.26629254991798673, -1.3601382690174102],\n",
       "       [0.0, 0.0, 1.0, -0.26629254991798673, -0.5255079675749088]],\n",
       "      dtype=object)"
      ]
     },
     "execution_count": 10,
     "metadata": {},
     "output_type": "execute_result"
    }
   ],
   "source": [
    "from sklearn.preprocessing import StandardScaler\n",
    "sc= StandardScaler()\n",
    "x_train[:,3:]=sc.fit_transform(x_train[:,3:])\n",
    "x_train"
   ]
  }
 ],
 "metadata": {
  "kernelspec": {
   "display_name": "Python 3",
   "language": "python",
   "name": "python3"
  },
  "language_info": {
   "codemirror_mode": {
    "name": "ipython",
    "version": 3
   },
   "file_extension": ".py",
   "mimetype": "text/x-python",
   "name": "python",
   "nbconvert_exporter": "python",
   "pygments_lexer": "ipython3",
   "version": "3.12.0"
  }
 },
 "nbformat": 4,
 "nbformat_minor": 2
}
