{
 "cells": [
  {
   "cell_type": "code",
   "execution_count": 1,
   "metadata": {},
   "outputs": [],
   "source": [
    "import requests\n",
    "from bs4 import BeautifulSoup\n",
    "import pandas as pd \n",
    "from datetime import datetime\n",
    "import matplotlib.pyplot as plt\n",
    "import seaborn as sns\n",
    "\n"
   ]
  },
  {
   "cell_type": "code",
   "execution_count": 74,
   "metadata": {},
   "outputs": [],
   "source": [
    "# cào dl từ minhtuanmobile\n",
    "url=\"https://minhtuanmobile.com/\"\n",
    "page=requests.get(url)\n",
    "\n",
    "soup= BeautifulSoup(page.text, \"html.parser\")"
   ]
  },
  {
   "cell_type": "code",
   "execution_count": 60,
   "metadata": {},
   "outputs": [],
   "source": [
    "phones1 = soup.find_all(\"h3\", class_=\"probox__title\")\n",
    "prices1 = soup.find_all(\"b\", class_=\"price\")\n",
    "mtmobile_lst=[]\n",
    "for phone,price in zip(phones1,prices1) :\n",
    "    mtmobile_lst.append({\n",
    "        \"Product\": phone.get_text(strip=True),\n",
    "        \"Price\": price.text,\n",
    "        \"Date\": datetime.now().strftime(\"%Y-%m-%d\")\n",
    "})\n"
   ]
  },
  {
   "cell_type": "code",
   "execution_count": 69,
   "metadata": {},
   "outputs": [],
   "source": [
    "#lưu vào file csv\n",
    "df=pd.DataFrame(mtmobile_lst)\n",
    "df.to_csv(\"D:/New folder/Semester 3/ADY301m/file csv/phone_prices_weekly.csv\", mode=\"a\", index= False, header=False) "
   ]
  },
  {
   "cell_type": "code",
   "execution_count": 5,
   "metadata": {},
   "outputs": [
    {
     "data": {
      "text/html": [
       "<div>\n",
       "<style scoped>\n",
       "    .dataframe tbody tr th:only-of-type {\n",
       "        vertical-align: middle;\n",
       "    }\n",
       "\n",
       "    .dataframe tbody tr th {\n",
       "        vertical-align: top;\n",
       "    }\n",
       "\n",
       "    .dataframe thead th {\n",
       "        text-align: right;\n",
       "    }\n",
       "</style>\n",
       "<table border=\"1\" class=\"dataframe\">\n",
       "  <thead>\n",
       "    <tr style=\"text-align: right;\">\n",
       "      <th></th>\n",
       "      <th>Product</th>\n",
       "      <th>Price</th>\n",
       "      <th>Date</th>\n",
       "    </tr>\n",
       "  </thead>\n",
       "  <tbody>\n",
       "    <tr>\n",
       "      <th>0</th>\n",
       "      <td>iPhone 16 Pro Max 256GB - Chính hãng VN/A</td>\n",
       "      <td>34990000</td>\n",
       "      <td>10/1/2024</td>\n",
       "    </tr>\n",
       "    <tr>\n",
       "      <th>1</th>\n",
       "      <td>iPhone 16 Pro Max 512GB - Chính hãng VN/A</td>\n",
       "      <td>40490000</td>\n",
       "      <td>10/1/2024</td>\n",
       "    </tr>\n",
       "    <tr>\n",
       "      <th>2</th>\n",
       "      <td>iPhone 16 Pro 128GB - Chính hãng VN/A</td>\n",
       "      <td>28490000</td>\n",
       "      <td>10/1/2024</td>\n",
       "    </tr>\n",
       "    <tr>\n",
       "      <th>3</th>\n",
       "      <td>iPhone 16 Pro 256GB - Chính hãng VN/A</td>\n",
       "      <td>31490000</td>\n",
       "      <td>10/1/2024</td>\n",
       "    </tr>\n",
       "    <tr>\n",
       "      <th>4</th>\n",
       "      <td>iPhone 16 Plus 128GB - Chính hãng VN/A</td>\n",
       "      <td>25490000</td>\n",
       "      <td>10/1/2024</td>\n",
       "    </tr>\n",
       "  </tbody>\n",
       "</table>\n",
       "</div>"
      ],
      "text/plain": [
       "                                     Product     Price       Date\n",
       "0  iPhone 16 Pro Max 256GB - Chính hãng VN/A  34990000  10/1/2024\n",
       "1  iPhone 16 Pro Max 512GB - Chính hãng VN/A  40490000  10/1/2024\n",
       "2      iPhone 16 Pro 128GB - Chính hãng VN/A  28490000  10/1/2024\n",
       "3      iPhone 16 Pro 256GB - Chính hãng VN/A  31490000  10/1/2024\n",
       "4     iPhone 16 Plus 128GB - Chính hãng VN/A  25490000  10/1/2024"
      ]
     },
     "execution_count": 5,
     "metadata": {},
     "output_type": "execute_result"
    }
   ],
   "source": [
    "#xử lí dữ liệu \n",
    "data=pd.read_csv(\"D:/New folder/Semester 3/ADY301m/file csv/phone_prices_weekly.csv\",names=[\"Product\",\"Price\",\"Date\"])\n",
    "\n",
    "data[\"Price\"]=data[\"Price\"].str.replace(\"đ\",\"\", regex=False)\n",
    "data[\"Price\"]=data[\"Price\"].str.replace(\",\",\"\", regex=False)\n",
    "data[\"Price\"]=data[\"Price\"].str.replace(\".\",\"\", regex=False)\n",
    "\n",
    "data['Price'] = pd.to_numeric(data['Price'], errors='coerce')\n",
    "\n",
    "data.to_csv('phone_prices_weekly.csv', index=False)\n",
    "data.head()\n"
   ]
  },
  {
   "cell_type": "code",
   "execution_count": 6,
   "metadata": {},
   "outputs": [
    {
     "name": "stderr",
     "output_type": "stream",
     "text": [
      "C:\\Users\\HOAIPHUC\\AppData\\Local\\Temp\\ipykernel_9168\\296716107.py:16: FutureWarning: The default of observed=False is deprecated and will be changed to True in a future version of pandas. Pass observed=False to retain current behavior or observed=True to adopt the future default and silence this warning.\n",
      "  segment_avg= data.groupby([\"Segment\"])[\"Price\"].mean();\n"
     ]
    },
    {
     "data": {
      "text/html": [
       "<div>\n",
       "<style scoped>\n",
       "    .dataframe tbody tr th:only-of-type {\n",
       "        vertical-align: middle;\n",
       "    }\n",
       "\n",
       "    .dataframe tbody tr th {\n",
       "        vertical-align: top;\n",
       "    }\n",
       "\n",
       "    .dataframe thead th {\n",
       "        text-align: right;\n",
       "    }\n",
       "</style>\n",
       "<table border=\"1\" class=\"dataframe\">\n",
       "  <thead>\n",
       "    <tr style=\"text-align: right;\">\n",
       "      <th></th>\n",
       "      <th>Product</th>\n",
       "      <th>Price</th>\n",
       "      <th>Date</th>\n",
       "      <th>Segment</th>\n",
       "      <th>Week</th>\n",
       "      <th>Month</th>\n",
       "    </tr>\n",
       "  </thead>\n",
       "  <tbody>\n",
       "    <tr>\n",
       "      <th>0</th>\n",
       "      <td>iPhone 16 Pro Max 256GB - Chính hãng VN/A</td>\n",
       "      <td>34990000</td>\n",
       "      <td>2024-10-01</td>\n",
       "      <td>High</td>\n",
       "      <td>2024-09-30/2024-10-06</td>\n",
       "      <td>2024-10</td>\n",
       "    </tr>\n",
       "    <tr>\n",
       "      <th>1</th>\n",
       "      <td>iPhone 16 Pro Max 512GB - Chính hãng VN/A</td>\n",
       "      <td>40490000</td>\n",
       "      <td>2024-10-01</td>\n",
       "      <td>High</td>\n",
       "      <td>2024-09-30/2024-10-06</td>\n",
       "      <td>2024-10</td>\n",
       "    </tr>\n",
       "    <tr>\n",
       "      <th>2</th>\n",
       "      <td>iPhone 16 Pro 128GB - Chính hãng VN/A</td>\n",
       "      <td>28490000</td>\n",
       "      <td>2024-10-01</td>\n",
       "      <td>High</td>\n",
       "      <td>2024-09-30/2024-10-06</td>\n",
       "      <td>2024-10</td>\n",
       "    </tr>\n",
       "    <tr>\n",
       "      <th>3</th>\n",
       "      <td>iPhone 16 Pro 256GB - Chính hãng VN/A</td>\n",
       "      <td>31490000</td>\n",
       "      <td>2024-10-01</td>\n",
       "      <td>High</td>\n",
       "      <td>2024-09-30/2024-10-06</td>\n",
       "      <td>2024-10</td>\n",
       "    </tr>\n",
       "    <tr>\n",
       "      <th>4</th>\n",
       "      <td>iPhone 16 Plus 128GB - Chính hãng VN/A</td>\n",
       "      <td>25490000</td>\n",
       "      <td>2024-10-01</td>\n",
       "      <td>High</td>\n",
       "      <td>2024-09-30/2024-10-06</td>\n",
       "      <td>2024-10</td>\n",
       "    </tr>\n",
       "  </tbody>\n",
       "</table>\n",
       "</div>"
      ],
      "text/plain": [
       "                                     Product     Price       Date Segment  \\\n",
       "0  iPhone 16 Pro Max 256GB - Chính hãng VN/A  34990000 2024-10-01    High   \n",
       "1  iPhone 16 Pro Max 512GB - Chính hãng VN/A  40490000 2024-10-01    High   \n",
       "2      iPhone 16 Pro 128GB - Chính hãng VN/A  28490000 2024-10-01    High   \n",
       "3      iPhone 16 Pro 256GB - Chính hãng VN/A  31490000 2024-10-01    High   \n",
       "4     iPhone 16 Plus 128GB - Chính hãng VN/A  25490000 2024-10-01    High   \n",
       "\n",
       "                    Week    Month  \n",
       "0  2024-09-30/2024-10-06  2024-10  \n",
       "1  2024-09-30/2024-10-06  2024-10  \n",
       "2  2024-09-30/2024-10-06  2024-10  \n",
       "3  2024-09-30/2024-10-06  2024-10  \n",
       "4  2024-09-30/2024-10-06  2024-10  "
      ]
     },
     "execution_count": 6,
     "metadata": {},
     "output_type": "execute_result"
    }
   ],
   "source": [
    "#tạo phân khúc sản phẩm\n",
    "data[\"Segment\"]=pd.cut(data[\"Price\"], bins=[0,7000000, 20000000,42000000], labels=[\"Low\", \"Mid\",\"High\"])\n",
    "\n",
    "#chuyển đôĩ cột date thành datetime\n",
    "data[\"Date\"]=pd.to_datetime(data[\"Date\"])\n",
    "\n",
    "#tính giá trị trb theo tuần\n",
    "data[\"Week\"]= data[\"Date\"].dt.to_period(\"W\")\n",
    "weekly_avg= data.groupby(\"Week\")[\"Price\"].mean()\n",
    "\n",
    "# Tính gía trị trb theo tháng\n",
    "data[\"Month\"]= data[\"Date\"].dt.to_period(\"M\")\n",
    "monthly_avg= data.groupby(\"Month\")[\"Price\"].mean()\n",
    "\n",
    "#tính gttb theo segment\n",
    "segment_avg= data.groupby([\"Segment\"])[\"Price\"].mean();\n",
    "\n",
    "data.head()\n",
    "\n"
   ]
  },
  {
   "cell_type": "code",
   "execution_count": 7,
   "metadata": {},
   "outputs": [
    {
     "name": "stdout",
     "output_type": "stream",
     "text": [
      "Gía trị trung theo tuần :Week\n",
      "2024-09-30/2024-10-06    1.189342e+07\n",
      "Freq: W-SUN, Name: Price, dtype: float64 \n",
      "\n",
      "Gía trị trung theo tháng :Month\n",
      "2024-10    1.189342e+07\n",
      "Freq: M, Name: Price, dtype: float64 \n",
      "\n",
      "Gía trị trung theo segment:Segment\n",
      "Low     1.548326e+06\n",
      "Mid     1.393533e+07\n",
      "High    2.904000e+07\n",
      "Name: Price, dtype: float64\n"
     ]
    }
   ],
   "source": [
    "#In ra gttb theo tuần . tháng , năm\n",
    "print(f\"Gía trị trung theo tuần :{weekly_avg}\",\"\\n\")\n",
    "\n",
    "print(f\"Gía trị trung theo tháng :{monthly_avg}\",\"\\n\")\n",
    "\n",
    "print(f\"Gía trị trung theo segment:{segment_avg}\")"
   ]
  },
  {
   "cell_type": "code",
   "execution_count": 8,
   "metadata": {},
   "outputs": [
    {
     "data": {
      "image/png": "[encoded data removed]",
      "text/plain": [
       "<Figure size 1200x600 with 1 Axes>"
      ]
     },
     "metadata": {},
     "output_type": "display_data"
    }
   ],
   "source": [
    "#Visualation\n",
    "plt.figure(figsize=(12,6))\n",
    "\n",
    "plt.plot(weekly_avg.index.astype(str), weekly_avg.values, label='Weekly Average', marker='o')\n",
    "plt.plot(monthly_avg.index.astype(str), monthly_avg.values, label='Monthly Average', marker='o')\n",
    "\n",
    "plt.title(\"Phone prices by week and month\") \n",
    "plt.xlabel(\"Time\") \n",
    "plt.ylabel(\"Average prices(VND)\")\n",
    "plt.legend()\n",
    "plt.grid(True)\n",
    "plt.xticks(rotation=45)\n",
    "plt.tight_layout()\n",
    "plt.show()\n",
    "\n",
    "\n",
    "\n"
   ]
  },
  {
   "cell_type": "code",
   "execution_count": 9,
   "metadata": {},
   "outputs": [
    {
     "data": {
      "image/png": "[encoded data removed]",
      "text/plain": [
       "<Figure size 640x480 with 1 Axes>"
      ]
     },
     "metadata": {},
     "output_type": "display_data"
    }
   ],
   "source": [
    "# Vẽ biểu đồ phân khúc sản phẩm\n",
    "segment_avg.plot(kind='bar', title='Giá trung bình theo phân khúc sản phẩm', ylabel='Giá (VND)', xlabel='Phân khúc')\n",
    "plt.tight_layout()\n",
    "plt.show()"
   ]
  },
  {
   "cell_type": "code",
   "execution_count": 10,
   "metadata": {},
   "outputs": [
    {
     "data": {
      "text/plain": [
       "array([11838064.62585034, 11838064.62585034, 11838064.62585034,\n",
       "       11838064.62585034, 11838064.62585034, 11838064.62585034,\n",
       "       11838064.62585034, 11838064.62585034, 11838064.62585034,\n",
       "       11838064.62585034])"
      ]
     },
     "execution_count": 10,
     "metadata": {},
     "output_type": "execute_result"
    }
   ],
   "source": [
    "\n",
    "from sklearn.linear_model import LinearRegression\n",
    "from sklearn.model_selection import train_test_split\n",
    "\n",
    "# Chuyển đổi cột Date thành số tuần (numeric)\n",
    "data['Date_Numeric'] = data['Date'].dt.strftime('%Y%U').astype(int)\n",
    "\n",
    "# Chọn các biến cho mô hình hồi quy\n",
    "X = data[['Date_Numeric']]\n",
    "y = data['Price']\n",
    "\n",
    "# Train-test split\n",
    "X_train, X_test, y_train, y_test = train_test_split(X, y, test_size=0.2)\n",
    "\n",
    "# Mô hình hồi quy\n",
    "model = LinearRegression()\n",
    "model.fit(X_train, y_train)\n",
    "\n",
    "# Dự đoán giá điện thoại trong tương lai\n",
    "future_weeks = pd.DataFrame({'Date_Numeric': range(data['Date_Numeric'].max(), data['Date_Numeric'].max() + 10)})\n",
    "predictions = model.predict(future_weeks)\n",
    "predictions"
   ]
  }
 ],
 "metadata": {
  "kernelspec": {
   "display_name": "Python 3",
   "language": "python",
   "name": "python3"
  },
  "language_info": {
   "codemirror_mode": {
    "name": "ipython",
    "version": 3
   },
   "file_extension": ".py",
   "mimetype": "text/x-python",
   "name": "python",
   "nbconvert_exporter": "python",
   "pygments_lexer": "ipython3",
   "version": "3.12.0"
  }
 },
 "nbformat": 4,
 "nbformat_minor": 2
}
